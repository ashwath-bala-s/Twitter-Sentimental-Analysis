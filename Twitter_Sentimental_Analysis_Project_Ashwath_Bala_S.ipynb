{
  "cells": [
    {
      "cell_type": "markdown",
      "source": [
        "##Twitter Sentimental Analysis Project"
      ],
      "metadata": {
        "id": "zNxKwn1jclj-"
      }
    },
    {
      "cell_type": "markdown",
      "source": [
        "##Done By: Ashwath Bala S"
      ],
      "metadata": {
        "id": "M9TFSrvzcn0i"
      }
    },
    {
      "cell_type": "markdown",
      "source": [
        "Table of Contents:\n",
        "\n",
        "1.Problem Statement\n",
        "\n",
        "2.Data Dictionary\n",
        "\n",
        "3.Importing the Required Libraries\n",
        "\n",
        "4.Loading the Dataset\n",
        "\n",
        "5.Data Pre-Processing (Lemmatization)\n",
        "\n",
        "6.Model Building (Bag-of-Words)"
      ],
      "metadata": {
        "id": "CvTsqfpxdSGP"
      }
    },
    {
      "cell_type": "markdown",
      "source": [
        "##1. Problem Statement\n",
        "\n",
        "![Twitter Sentimental Analysis Project.png](data:image/png;base64,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)\n",
        "\n",
        "In today's digital age, social media platforms like Twitter have become significant venues for individuals to express their opinions on various topics, including products, events, political views, and global issues. Analyzing these sentiments can provide valuable insights for businesses, policymakers, and researchers.\n",
        "\n",
        "The objective of this project is to develop a robust sentiment analysis model that can accurately classify the sentiment of tweets into positive and negative"
      ],
      "metadata": {
        "id": "31t9u6gDcVZz"
      }
    },
    {
      "cell_type": "markdown",
      "source": [
        "##2. Data Dictionary\n",
        "\n",
        "Let's check the data files! According to the data description we should find the following columns:\n",
        "\n",
        "id - A unique identifier for each tweet\n",
        "\n",
        "label - A label indicating whether the tweet is positive or negative (1 = positive, 0 = negative) [Target Variable]\n",
        "\n",
        "tweet - the text of the tweet"
      ],
      "metadata": {
        "id": "wLQtqkGaiWQP"
      }
    },
    {
      "cell_type": "markdown",
      "source": [
        "##3. Importing the Required Libraries"
      ],
      "metadata": {
        "id": "IRQUvQ6xduJ8"
      }
    },
    {
      "cell_type": "code",
      "execution_count": 1,
      "metadata": {
        "id": "ihjOfNfZJ8Hn"
      },
      "outputs": [],
      "source": [
        "import pandas as pd\n",
        "import re\n",
        "from sklearn.feature_extraction.text import CountVectorizer\n",
        "import nltk\n",
        "from nltk.corpus import stopwords\n",
        "from nltk.stem import WordNetLemmatizer\n",
        "from sklearn.linear_model import LogisticRegression\n",
        "from sklearn.model_selection import train_test_split\n",
        "from sklearn.metrics import f1_score\n",
        "import matplotlib.pyplot as plt\n",
        "import warnings\n",
        "import nltk\n",
        "from nltk.stem import WordNetLemmatizer\n",
        "\n",
        "\n",
        "warnings.filterwarnings(\"ignore\")\n",
        "pd.set_option(\"display.max_colwidth\", 200)"
      ]
    },
    {
      "cell_type": "markdown",
      "source": [
        "##4.Loading the Dataset"
      ],
      "metadata": {
        "id": "tivqno3nd3vi"
      }
    },
    {
      "cell_type": "code",
      "execution_count": 2,
      "metadata": {
        "id": "NKd6NqeIJ8Xh"
      },
      "outputs": [],
      "source": [
        "data=pd.read_csv(\"tweets.csv\")"
      ]
    },
    {
      "cell_type": "code",
      "execution_count": 3,
      "metadata": {
        "colab": {
          "base_uri": "https://localhost:8080/"
        },
        "id": "0KrXkHk8J8ZF",
        "outputId": "39cd1e07-5020-4ee0-f825-1cfb23b51d3b"
      },
      "outputs": [
        {
          "output_type": "stream",
          "name": "stdout",
          "text": [
            "<class 'pandas.core.frame.DataFrame'>\n",
            "RangeIndex: 7920 entries, 0 to 7919\n",
            "Data columns (total 3 columns):\n",
            " #   Column  Non-Null Count  Dtype \n",
            "---  ------  --------------  ----- \n",
            " 0   id      7920 non-null   int64 \n",
            " 1   label   7920 non-null   int64 \n",
            " 2   tweet   7920 non-null   object\n",
            "dtypes: int64(2), object(1)\n",
            "memory usage: 185.8+ KB\n"
          ]
        }
      ],
      "source": [
        "# Let us print information about a dataframe including the index, dtype and column dtypes.\n",
        "data.info()"
      ]
    },
    {
      "cell_type": "code",
      "execution_count": 4,
      "metadata": {
        "colab": {
          "base_uri": "https://localhost:8080/",
          "height": 206
        },
        "id": "vWexUbcTJ8bb",
        "outputId": "90aab1a8-0bec-47b4-90a9-7689ff3be161"
      },
      "outputs": [
        {
          "output_type": "execute_result",
          "data": {
            "text/plain": [
              "   id  label  \\\n",
              "0   1      0   \n",
              "1   2      0   \n",
              "2   3      0   \n",
              "3   4      0   \n",
              "4   5      1   \n",
              "\n",
              "                                                                                                                                 tweet  \n",
              "0     #fingerprint #Pregnancy Test https://goo.gl/h1MfQV #android #apps #beautiful #cute #health #igers #iphoneonly #iphonesia #iphone  \n",
              "1  Finally a transparant silicon case ^^ Thanks to my uncle :) #yay #Sony #Xperia #S #sonyexperias… http://instagram.com/p/YGEt5JC6JM/  \n",
              "2          We love this! Would you go? #talk #makememories #unplug #relax #iphone #smartphone #wifi #connect... http://fb.me/6N3LsUpCu  \n",
              "3                     I'm wired I know I'm George I was made that way ;) #iphone #cute #daventry #home http://instagr.am/p/Li_5_ujS4k/  \n",
              "4         What amazing service! Apple won't even talk to me about a question I have unless I pay them $19.95 for their stupid support!  "
            ],
            "text/html": [
              "\n",
              "  <div id=\"df-4e9c5a02-38c6-4f4b-8cfc-873688f9c631\" class=\"colab-df-container\">\n",
              "    <div>\n",
              "<style scoped>\n",
              "    .dataframe tbody tr th:only-of-type {\n",
              "        vertical-align: middle;\n",
              "    }\n",
              "\n",
              "    .dataframe tbody tr th {\n",
              "        vertical-align: top;\n",
              "    }\n",
              "\n",
              "    .dataframe thead th {\n",
              "        text-align: right;\n",
              "    }\n",
              "</style>\n",
              "<table border=\"1\" class=\"dataframe\">\n",
              "  <thead>\n",
              "    <tr style=\"text-align: right;\">\n",
              "      <th></th>\n",
              "      <th>id</th>\n",
              "      <th>label</th>\n",
              "      <th>tweet</th>\n",
              "    </tr>\n",
              "  </thead>\n",
              "  <tbody>\n",
              "    <tr>\n",
              "      <th>0</th>\n",
              "      <td>1</td>\n",
              "      <td>0</td>\n",
              "      <td>#fingerprint #Pregnancy Test https://goo.gl/h1MfQV #android #apps #beautiful #cute #health #igers #iphoneonly #iphonesia #iphone</td>\n",
              "    </tr>\n",
              "    <tr>\n",
              "      <th>1</th>\n",
              "      <td>2</td>\n",
              "      <td>0</td>\n",
              "      <td>Finally a transparant silicon case ^^ Thanks to my uncle :) #yay #Sony #Xperia #S #sonyexperias… http://instagram.com/p/YGEt5JC6JM/</td>\n",
              "    </tr>\n",
              "    <tr>\n",
              "      <th>2</th>\n",
              "      <td>3</td>\n",
              "      <td>0</td>\n",
              "      <td>We love this! Would you go? #talk #makememories #unplug #relax #iphone #smartphone #wifi #connect... http://fb.me/6N3LsUpCu</td>\n",
              "    </tr>\n",
              "    <tr>\n",
              "      <th>3</th>\n",
              "      <td>4</td>\n",
              "      <td>0</td>\n",
              "      <td>I'm wired I know I'm George I was made that way ;) #iphone #cute #daventry #home http://instagr.am/p/Li_5_ujS4k/</td>\n",
              "    </tr>\n",
              "    <tr>\n",
              "      <th>4</th>\n",
              "      <td>5</td>\n",
              "      <td>1</td>\n",
              "      <td>What amazing service! Apple won't even talk to me about a question I have unless I pay them $19.95 for their stupid support!</td>\n",
              "    </tr>\n",
              "  </tbody>\n",
              "</table>\n",
              "</div>\n",
              "    <div class=\"colab-df-buttons\">\n",
              "\n",
              "  <div class=\"colab-df-container\">\n",
              "    <button class=\"colab-df-convert\" onclick=\"convertToInteractive('df-4e9c5a02-38c6-4f4b-8cfc-873688f9c631')\"\n",
              "            title=\"Convert this dataframe to an interactive table.\"\n",
              "            style=\"display:none;\">\n",
              "\n",
              "  <svg xmlns=\"http://www.w3.org/2000/svg\" height=\"24px\" viewBox=\"0 -960 960 960\">\n",
              "    <path d=\"M120-120v-720h720v720H120Zm60-500h600v-160H180v160Zm220 220h160v-160H400v160Zm0 220h160v-160H400v160ZM180-400h160v-160H180v160Zm440 0h160v-160H620v160ZM180-180h160v-160H180v160Zm440 0h160v-160H620v160Z\"/>\n",
              "  </svg>\n",
              "    </button>\n",
              "\n",
              "  <style>\n",
              "    .colab-df-container {\n",
              "      display:flex;\n",
              "      gap: 12px;\n",
              "    }\n",
              "\n",
              "    .colab-df-convert {\n",
              "      background-color: #E8F0FE;\n",
              "      border: none;\n",
              "      border-radius: 50%;\n",
              "      cursor: pointer;\n",
              "      display: none;\n",
              "      fill: #1967D2;\n",
              "      height: 32px;\n",
              "      padding: 0 0 0 0;\n",
              "      width: 32px;\n",
              "    }\n",
              "\n",
              "    .colab-df-convert:hover {\n",
              "      background-color: #E2EBFA;\n",
              "      box-shadow: 0px 1px 2px rgba(60, 64, 67, 0.3), 0px 1px 3px 1px rgba(60, 64, 67, 0.15);\n",
              "      fill: #174EA6;\n",
              "    }\n",
              "\n",
              "    .colab-df-buttons div {\n",
              "      margin-bottom: 4px;\n",
              "    }\n",
              "\n",
              "    [theme=dark] .colab-df-convert {\n",
              "      background-color: #3B4455;\n",
              "      fill: #D2E3FC;\n",
              "    }\n",
              "\n",
              "    [theme=dark] .colab-df-convert:hover {\n",
              "      background-color: #434B5C;\n",
              "      box-shadow: 0px 1px 3px 1px rgba(0, 0, 0, 0.15);\n",
              "      filter: drop-shadow(0px 1px 2px rgba(0, 0, 0, 0.3));\n",
              "      fill: #FFFFFF;\n",
              "    }\n",
              "  </style>\n",
              "\n",
              "    <script>\n",
              "      const buttonEl =\n",
              "        document.querySelector('#df-4e9c5a02-38c6-4f4b-8cfc-873688f9c631 button.colab-df-convert');\n",
              "      buttonEl.style.display =\n",
              "        google.colab.kernel.accessAllowed ? 'block' : 'none';\n",
              "\n",
              "      async function convertToInteractive(key) {\n",
              "        const element = document.querySelector('#df-4e9c5a02-38c6-4f4b-8cfc-873688f9c631');\n",
              "        const dataTable =\n",
              "          await google.colab.kernel.invokeFunction('convertToInteractive',\n",
              "                                                    [key], {});\n",
              "        if (!dataTable) return;\n",
              "\n",
              "        const docLinkHtml = 'Like what you see? Visit the ' +\n",
              "          '<a target=\"_blank\" href=https://colab.research.google.com/notebooks/data_table.ipynb>data table notebook</a>'\n",
              "          + ' to learn more about interactive tables.';\n",
              "        element.innerHTML = '';\n",
              "        dataTable['output_type'] = 'display_data';\n",
              "        await google.colab.output.renderOutput(dataTable, element);\n",
              "        const docLink = document.createElement('div');\n",
              "        docLink.innerHTML = docLinkHtml;\n",
              "        element.appendChild(docLink);\n",
              "      }\n",
              "    </script>\n",
              "  </div>\n",
              "\n",
              "\n",
              "<div id=\"df-f7ea280c-4403-43db-b3ff-bd447ee43b8f\">\n",
              "  <button class=\"colab-df-quickchart\" onclick=\"quickchart('df-f7ea280c-4403-43db-b3ff-bd447ee43b8f')\"\n",
              "            title=\"Suggest charts\"\n",
              "            style=\"display:none;\">\n",
              "\n",
              "<svg xmlns=\"http://www.w3.org/2000/svg\" height=\"24px\"viewBox=\"0 0 24 24\"\n",
              "     width=\"24px\">\n",
              "    <g>\n",
              "        <path d=\"M19 3H5c-1.1 0-2 .9-2 2v14c0 1.1.9 2 2 2h14c1.1 0 2-.9 2-2V5c0-1.1-.9-2-2-2zM9 17H7v-7h2v7zm4 0h-2V7h2v10zm4 0h-2v-4h2v4z\"/>\n",
              "    </g>\n",
              "</svg>\n",
              "  </button>\n",
              "\n",
              "<style>\n",
              "  .colab-df-quickchart {\n",
              "      --bg-color: #E8F0FE;\n",
              "      --fill-color: #1967D2;\n",
              "      --hover-bg-color: #E2EBFA;\n",
              "      --hover-fill-color: #174EA6;\n",
              "      --disabled-fill-color: #AAA;\n",
              "      --disabled-bg-color: #DDD;\n",
              "  }\n",
              "\n",
              "  [theme=dark] .colab-df-quickchart {\n",
              "      --bg-color: #3B4455;\n",
              "      --fill-color: #D2E3FC;\n",
              "      --hover-bg-color: #434B5C;\n",
              "      --hover-fill-color: #FFFFFF;\n",
              "      --disabled-bg-color: #3B4455;\n",
              "      --disabled-fill-color: #666;\n",
              "  }\n",
              "\n",
              "  .colab-df-quickchart {\n",
              "    background-color: var(--bg-color);\n",
              "    border: none;\n",
              "    border-radius: 50%;\n",
              "    cursor: pointer;\n",
              "    display: none;\n",
              "    fill: var(--fill-color);\n",
              "    height: 32px;\n",
              "    padding: 0;\n",
              "    width: 32px;\n",
              "  }\n",
              "\n",
              "  .colab-df-quickchart:hover {\n",
              "    background-color: var(--hover-bg-color);\n",
              "    box-shadow: 0 1px 2px rgba(60, 64, 67, 0.3), 0 1px 3px 1px rgba(60, 64, 67, 0.15);\n",
              "    fill: var(--button-hover-fill-color);\n",
              "  }\n",
              "\n",
              "  .colab-df-quickchart-complete:disabled,\n",
              "  .colab-df-quickchart-complete:disabled:hover {\n",
              "    background-color: var(--disabled-bg-color);\n",
              "    fill: var(--disabled-fill-color);\n",
              "    box-shadow: none;\n",
              "  }\n",
              "\n",
              "  .colab-df-spinner {\n",
              "    border: 2px solid var(--fill-color);\n",
              "    border-color: transparent;\n",
              "    border-bottom-color: var(--fill-color);\n",
              "    animation:\n",
              "      spin 1s steps(1) infinite;\n",
              "  }\n",
              "\n",
              "  @keyframes spin {\n",
              "    0% {\n",
              "      border-color: transparent;\n",
              "      border-bottom-color: var(--fill-color);\n",
              "      border-left-color: var(--fill-color);\n",
              "    }\n",
              "    20% {\n",
              "      border-color: transparent;\n",
              "      border-left-color: var(--fill-color);\n",
              "      border-top-color: var(--fill-color);\n",
              "    }\n",
              "    30% {\n",
              "      border-color: transparent;\n",
              "      border-left-color: var(--fill-color);\n",
              "      border-top-color: var(--fill-color);\n",
              "      border-right-color: var(--fill-color);\n",
              "    }\n",
              "    40% {\n",
              "      border-color: transparent;\n",
              "      border-right-color: var(--fill-color);\n",
              "      border-top-color: var(--fill-color);\n",
              "    }\n",
              "    60% {\n",
              "      border-color: transparent;\n",
              "      border-right-color: var(--fill-color);\n",
              "    }\n",
              "    80% {\n",
              "      border-color: transparent;\n",
              "      border-right-color: var(--fill-color);\n",
              "      border-bottom-color: var(--fill-color);\n",
              "    }\n",
              "    90% {\n",
              "      border-color: transparent;\n",
              "      border-bottom-color: var(--fill-color);\n",
              "    }\n",
              "  }\n",
              "</style>\n",
              "\n",
              "  <script>\n",
              "    async function quickchart(key) {\n",
              "      const quickchartButtonEl =\n",
              "        document.querySelector('#' + key + ' button');\n",
              "      quickchartButtonEl.disabled = true;  // To prevent multiple clicks.\n",
              "      quickchartButtonEl.classList.add('colab-df-spinner');\n",
              "      try {\n",
              "        const charts = await google.colab.kernel.invokeFunction(\n",
              "            'suggestCharts', [key], {});\n",
              "      } catch (error) {\n",
              "        console.error('Error during call to suggestCharts:', error);\n",
              "      }\n",
              "      quickchartButtonEl.classList.remove('colab-df-spinner');\n",
              "      quickchartButtonEl.classList.add('colab-df-quickchart-complete');\n",
              "    }\n",
              "    (() => {\n",
              "      let quickchartButtonEl =\n",
              "        document.querySelector('#df-f7ea280c-4403-43db-b3ff-bd447ee43b8f button');\n",
              "      quickchartButtonEl.style.display =\n",
              "        google.colab.kernel.accessAllowed ? 'block' : 'none';\n",
              "    })();\n",
              "  </script>\n",
              "</div>\n",
              "\n",
              "    </div>\n",
              "  </div>\n"
            ],
            "application/vnd.google.colaboratory.intrinsic+json": {
              "type": "dataframe",
              "variable_name": "data",
              "summary": "{\n  \"name\": \"data\",\n  \"rows\": 7920,\n  \"fields\": [\n    {\n      \"column\": \"id\",\n      \"properties\": {\n        \"dtype\": \"number\",\n        \"std\": 2286,\n        \"min\": 1,\n        \"max\": 7920,\n        \"num_unique_values\": 7920,\n        \"samples\": [\n          4897,\n          7540,\n          1678\n        ],\n        \"semantic_type\": \"\",\n        \"description\": \"\"\n      }\n    },\n    {\n      \"column\": \"label\",\n      \"properties\": {\n        \"dtype\": \"number\",\n        \"std\": 0,\n        \"min\": 0,\n        \"max\": 1,\n        \"num_unique_values\": 2,\n        \"samples\": [\n          1,\n          0\n        ],\n        \"semantic_type\": \"\",\n        \"description\": \"\"\n      }\n    },\n    {\n      \"column\": \"tweet\",\n      \"properties\": {\n        \"dtype\": \"string\",\n        \"num_unique_values\": 7918,\n        \"samples\": [\n          \"My face as dad gave me cards worth \\u00a320, 000.00 #gay #shopping #boy #macbook #apple #blonde #pickofthe http://instagr.am/p/Uo5Ue7H7A8/\",\n          \"@skullcandy your product is brutal, 1 headphone always stops working. Get it together #Sony ftw\"\n        ],\n        \"semantic_type\": \"\",\n        \"description\": \"\"\n      }\n    }\n  ]\n}"
            }
          },
          "metadata": {},
          "execution_count": 4
        }
      ],
      "source": [
        "# Printing top 5 Rows\n",
        "data.head()"
      ]
    },
    {
      "cell_type": "markdown",
      "source": [
        "Check for Null Values"
      ],
      "metadata": {
        "id": "C2M_FHIvecJJ"
      }
    },
    {
      "cell_type": "code",
      "execution_count": 5,
      "metadata": {
        "colab": {
          "base_uri": "https://localhost:8080/"
        },
        "id": "zZXfhPcLJ8d6",
        "outputId": "458237d6-167f-4e73-fab3-599e70f4d2e2"
      },
      "outputs": [
        {
          "output_type": "execute_result",
          "data": {
            "text/plain": [
              "id       0\n",
              "label    0\n",
              "tweet    0\n",
              "dtype: int64"
            ]
          },
          "metadata": {},
          "execution_count": 5
        }
      ],
      "source": [
        "data.isnull().sum() #check for the null values"
      ]
    },
    {
      "cell_type": "markdown",
      "source": [
        "##5.Data Pre-Processing"
      ],
      "metadata": {
        "id": "4iNieebtfGOI"
      }
    },
    {
      "cell_type": "markdown",
      "metadata": {
        "id": "1SD9p7mAKmGv"
      },
      "source": [
        "Dropping out the column with ID since it doesn't contribute to the output"
      ]
    },
    {
      "cell_type": "code",
      "execution_count": 6,
      "metadata": {
        "id": "_jQ_xeJfJ8gN"
      },
      "outputs": [],
      "source": [
        "data = data.drop(['id'],axis=1) #drop unnecessary columns"
      ]
    },
    {
      "cell_type": "markdown",
      "metadata": {
        "id": "mkN9L1PnKs5E"
      },
      "source": [
        "Understanding the class distribution helps in knowing whether the dataset is balanced or not."
      ]
    },
    {
      "cell_type": "code",
      "execution_count": 7,
      "metadata": {
        "colab": {
          "base_uri": "https://localhost:8080/",
          "height": 461
        },
        "id": "fbWBqPXVJ8ir",
        "outputId": "60d2a7c5-0bad-48e9-957d-d0b613175728"
      },
      "outputs": [
        {
          "output_type": "execute_result",
          "data": {
            "text/plain": [
              "<Axes: xlabel='label'>"
            ]
          },
          "metadata": {},
          "execution_count": 7
        },
        {
          "output_type": "display_data",
          "data": {
            "text/plain": [
              "<Figure size 640x480 with 1 Axes>"
            ],
            "image/png": "[encoded data removed]"
          },
          "metadata": {}
        }
      ],
      "source": [
        "data['label'].value_counts().plot(kind='bar')"
      ]
    },
    {
      "cell_type": "markdown",
      "metadata": {
        "id": "AwKi71DcK2hg"
      },
      "source": [
        "Lets us understand the proportion of each class"
      ]
    },
    {
      "cell_type": "code",
      "execution_count": 8,
      "metadata": {
        "colab": {
          "base_uri": "https://localhost:8080/"
        },
        "id": "odaWvAE9J8k_",
        "outputId": "45009035-1279-4fcf-c09d-e8ece1bc6e8b"
      },
      "outputs": [
        {
          "output_type": "execute_result",
          "data": {
            "text/plain": [
              "label\n",
              "0    0.744192\n",
              "1    0.255808\n",
              "Name: proportion, dtype: float64"
            ]
          },
          "metadata": {},
          "execution_count": 8
        }
      ],
      "source": [
        "data['label'].value_counts(normalize=True)"
      ]
    },
    {
      "cell_type": "markdown",
      "metadata": {
        "id": "jZDXu-2DK8aA"
      },
      "source": [
        "We can infer that the given problem is a class imbalance problem"
      ]
    },
    {
      "cell_type": "markdown",
      "metadata": {
        "id": "GDHa0gQfLBZ7"
      },
      "source": [
        "**Pre Processing the text**\n",
        "\n",
        "1.The raw data is messy. It contains hashtags, user mentions, non ascii characters, punctuations, numbers, html entities, extra spaces, misspelled words,etc.\n",
        "\n",
        "2.So, Data Pre-processing is the most important step prior to the model building in which we remove all the unnecessary qualities from the data.\n",
        "\n",
        "Let us look at some of the examples\n",
        "\n",
        "Contraction mapping : expanding the shortened versions or contraction of words using contraction dictionary"
      ]
    },
    {
      "cell_type": "code",
      "execution_count": 9,
      "metadata": {
        "id": "UGStCOFoJ8qO",
        "colab": {
          "base_uri": "https://localhost:8080/",
          "height": 35
        },
        "outputId": "dc5bb735-bdb9-4cc6-c943-fb118c5fe444"
      },
      "outputs": [
        {
          "output_type": "execute_result",
          "data": {
            "text/plain": [
              "\"It's time for new wallpapers #phone #wallpapers #wall #screen #galaxy #samsung #app … https://www.instagram.com/p/BcsKTNNn51c/\""
            ],
            "application/vnd.google.colaboratory.intrinsic+json": {
              "type": "string"
            }
          },
          "metadata": {},
          "execution_count": 9
        }
      ],
      "source": [
        "data.tweet[24]"
      ]
    },
    {
      "cell_type": "code",
      "execution_count": 10,
      "metadata": {
        "id": "pfbr7f0gK-L6",
        "colab": {
          "base_uri": "https://localhost:8080/",
          "height": 35
        },
        "outputId": "26571385-15c0-4b78-a48a-196674b3b962"
      },
      "outputs": [
        {
          "output_type": "execute_result",
          "data": {
            "text/plain": [
              "'It is time for new wallpapers #phone #wallpapers #wall #screen #galaxy #samsung #app … https://www.instagram.com/p/BcsKTNNn51c/'"
            ],
            "application/vnd.google.colaboratory.intrinsic+json": {
              "type": "string"
            }
          },
          "metadata": {},
          "execution_count": 10
        }
      ],
      "source": [
        "newString=re.sub(r\"'s\\b\",\" is\",data.tweet[24])  #converting It's to It is\n",
        "newString"
      ]
    },
    {
      "cell_type": "markdown",
      "metadata": {
        "id": "hMy_ldb_LNmH"
      },
      "source": [
        "Removing user mention"
      ]
    },
    {
      "cell_type": "code",
      "execution_count": 11,
      "metadata": {
        "id": "m980_HEFK-JH",
        "colab": {
          "base_uri": "https://localhost:8080/",
          "height": 35
        },
        "outputId": "bcda5bed-5bc3-45c8-9b49-52e248554d91"
      },
      "outputs": [
        {
          "output_type": "execute_result",
          "data": {
            "text/plain": [
              "'Ha! Not heavy machinery but it does what I need it to. @Apple really dropped the ball with that design. #drinkyourhaterade'"
            ],
            "application/vnd.google.colaboratory.intrinsic+json": {
              "type": "string"
            }
          },
          "metadata": {},
          "execution_count": 11
        }
      ],
      "source": [
        "data.tweet[11]"
      ]
    },
    {
      "cell_type": "code",
      "execution_count": 12,
      "metadata": {
        "id": "GINJxXtRK-GX",
        "colab": {
          "base_uri": "https://localhost:8080/"
        },
        "outputId": "29dfdb09-a76c-467f-906e-996dd39f03fa"
      },
      "outputs": [
        {
          "output_type": "stream",
          "name": "stdout",
          "text": [
            "Ha! Not heavy machinery but it does what I need it to.  really dropped the ball with that design. #drinkyourhaterade\n"
          ]
        }
      ],
      "source": [
        "newString=re.sub(r'@[A-Za-z0-9]+','',data.tweet[11])\n",
        "print(newString)"
      ]
    },
    {
      "cell_type": "markdown",
      "metadata": {
        "id": "A7VlwZizLZpl"
      },
      "source": [
        "Removing hashtag symbol"
      ]
    },
    {
      "cell_type": "code",
      "execution_count": 13,
      "metadata": {
        "id": "H68c8J0WJ8vC",
        "colab": {
          "base_uri": "https://localhost:8080/",
          "height": 35
        },
        "outputId": "9fda9dea-ebfe-4721-93d0-e0d243ea947b"
      },
      "outputs": [
        {
          "output_type": "execute_result",
          "data": {
            "text/plain": [
              "'#fingerprint #Pregnancy Test https://goo.gl/h1MfQV #android #apps #beautiful #cute #health #igers #iphoneonly #iphonesia #iphone'"
            ],
            "application/vnd.google.colaboratory.intrinsic+json": {
              "type": "string"
            }
          },
          "metadata": {},
          "execution_count": 13
        }
      ],
      "source": [
        "data.tweet[0]"
      ]
    },
    {
      "cell_type": "code",
      "execution_count": 14,
      "metadata": {
        "id": "VAJk1FFdJ8xf",
        "colab": {
          "base_uri": "https://localhost:8080/"
        },
        "outputId": "26a6198f-feda-4dc8-9cbe-5c1018347ea7"
      },
      "outputs": [
        {
          "output_type": "stream",
          "name": "stdout",
          "text": [
            "fingerprint Pregnancy Test https://goo.gl/h1MfQV android apps beautiful cute health igers iphoneonly iphonesia iphone\n"
          ]
        }
      ],
      "source": [
        "newString=re.sub(\"#\",\"\",data.tweet[0])\n",
        "print(newString)"
      ]
    },
    {
      "cell_type": "markdown",
      "metadata": {
        "id": "28b9i84aLhwD"
      },
      "source": [
        "Removal of links"
      ]
    },
    {
      "cell_type": "code",
      "execution_count": 15,
      "metadata": {
        "id": "3c9jj2fPJ81W",
        "colab": {
          "base_uri": "https://localhost:8080/",
          "height": 35
        },
        "outputId": "bd2ad977-3c2f-44e6-8237-3ab0f9c04667"
      },
      "outputs": [
        {
          "output_type": "execute_result",
          "data": {
            "text/plain": [
              "'Finally a transparant silicon case ^^ Thanks to my uncle :) #yay #Sony #Xperia #S #sonyexperias… http://instagram.com/p/YGEt5JC6JM/'"
            ],
            "application/vnd.google.colaboratory.intrinsic+json": {
              "type": "string"
            }
          },
          "metadata": {},
          "execution_count": 15
        }
      ],
      "source": [
        "data.tweet[1]"
      ]
    },
    {
      "cell_type": "code",
      "execution_count": 16,
      "metadata": {
        "id": "0k6KuNeJJ8s4",
        "colab": {
          "base_uri": "https://localhost:8080/",
          "height": 35
        },
        "outputId": "3a131f86-bb57-42c0-c4ae-f6ab1b4884a4"
      },
      "outputs": [
        {
          "output_type": "execute_result",
          "data": {
            "text/plain": [
              "'Finally a transparant silicon case ^^ Thanks to my uncle :) #yay #Sony #Xperia #S #sonyexperias… '"
            ],
            "application/vnd.google.colaboratory.intrinsic+json": {
              "type": "string"
            }
          },
          "metadata": {},
          "execution_count": 16
        }
      ],
      "source": [
        "newString=re.sub(r'http\\S+', '', data.tweet[1])\n",
        "newString"
      ]
    },
    {
      "cell_type": "markdown",
      "metadata": {
        "id": "BFKmn5FgLsv_"
      },
      "source": [
        "Removing special characters, punctuations, numbers"
      ]
    },
    {
      "cell_type": "code",
      "execution_count": 17,
      "metadata": {
        "id": "jCIi-Co2LpxM",
        "colab": {
          "base_uri": "https://localhost:8080/",
          "height": 35
        },
        "outputId": "c649c79a-7a22-4a04-8456-4206ef732c5b"
      },
      "outputs": [
        {
          "output_type": "execute_result",
          "data": {
            "text/plain": [
              "'1.05 billion for 3 patents where there is prior art = 300 millions each = patent trolls are partying now thanks to Apple #apple'"
            ],
            "application/vnd.google.colaboratory.intrinsic+json": {
              "type": "string"
            }
          },
          "metadata": {},
          "execution_count": 17
        }
      ],
      "source": [
        "data.tweet[25]"
      ]
    },
    {
      "cell_type": "code",
      "execution_count": 18,
      "metadata": {
        "id": "ZKuVkQ6_LuT7",
        "colab": {
          "base_uri": "https://localhost:8080/",
          "height": 35
        },
        "outputId": "9cfee8fc-d9c7-4a25-9d75-6dfad10f55c8"
      },
      "outputs": [
        {
          "output_type": "execute_result",
          "data": {
            "text/plain": [
              "'     billion for   patents where there is prior art       millions each   patent trolls are partying now thanks to Apple  apple'"
            ],
            "application/vnd.google.colaboratory.intrinsic+json": {
              "type": "string"
            }
          },
          "metadata": {},
          "execution_count": 18
        }
      ],
      "source": [
        "newString=re.sub(\"[^a-zA-Z]\", \" \", data.tweet[25])\n",
        "newString"
      ]
    },
    {
      "cell_type": "markdown",
      "metadata": {
        "id": "CVSre2chL0uk"
      },
      "source": [
        "Removal of stop words:\n",
        "\n",
        "Stop words usually refers to the most commonly used words in a language (such as “the”, “a”, “an”, “in”)\n",
        "\n",
        "This step is a one of the important steps to come up with more robust input"
      ]
    },
    {
      "cell_type": "code",
      "execution_count": 19,
      "metadata": {
        "colab": {
          "base_uri": "https://localhost:8080/"
        },
        "id": "LCPT1zQRLwwJ",
        "outputId": "c5eb9983-aea4-4496-c306-9ade54b6c198"
      },
      "outputs": [
        {
          "output_type": "stream",
          "name": "stderr",
          "text": [
            "[nltk_data] Downloading package stopwords to /root/nltk_data...\n",
            "[nltk_data]   Unzipping corpora/stopwords.zip.\n"
          ]
        }
      ],
      "source": [
        "nltk.download('stopwords')\n",
        "stop_words = set(stopwords.words('english'))"
      ]
    },
    {
      "cell_type": "markdown",
      "metadata": {
        "id": "_6_EigixRrgI"
      },
      "source": [
        "Text Normalization\n",
        "\n",
        "There are 2 types of normalization techniques.\n",
        "\n",
        "1.*Stemming* is the process of converting the words of a sentence to its non-changing portions.\n",
        "\n",
        "For example, given the words of amusing, amusement, and amused, the stem would be amus.\n",
        "\n",
        "2.*Lemmatization* is the process of converting the words of a sentence to its dictionary form.\n",
        "\n",
        "For example, given the words amusement, amusing, and amused, the lemma for each and all would be amuse.\n",
        "\n",
        "Let us implement Lemmatization in our Project\n"
      ]
    },
    {
      "cell_type": "code",
      "execution_count": 20,
      "metadata": {
        "colab": {
          "base_uri": "https://localhost:8080/",
          "height": 35
        },
        "id": "MzAhtK7XWB_D",
        "outputId": "794713ae-beb9-49d7-f56b-b79e3676c28c"
      },
      "outputs": [
        {
          "output_type": "execute_result",
          "data": {
            "text/plain": [
              "'Gain Followers RT This MUST FOLLOW ME I FOLLOW BACK Follow everyone who rts Gain #iphone #sougofollow #ff i7si'"
            ],
            "application/vnd.google.colaboratory.intrinsic+json": {
              "type": "string"
            }
          },
          "metadata": {},
          "execution_count": 20
        }
      ],
      "source": [
        "data.tweet[63]"
      ]
    },
    {
      "cell_type": "code",
      "execution_count": 22,
      "metadata": {
        "colab": {
          "base_uri": "https://localhost:8080/"
        },
        "id": "gla-3gWsXBbg",
        "outputId": "21f6842c-edb6-445b-d9c5-71adac66875b"
      },
      "outputs": [
        {
          "output_type": "stream",
          "name": "stderr",
          "text": [
            "[nltk_data] Downloading package wordnet to /root/nltk_data...\n"
          ]
        },
        {
          "output_type": "stream",
          "name": "stdout",
          "text": [
            "gain follower rt this must follow me i follow back follow everyone who rts gain #iphone #sougofollow #ff i7si \n"
          ]
        }
      ],
      "source": [
        "# Downloading the WordNet corpus\n",
        "nltk.download('wordnet')\n",
        "\n",
        "# Initializing the lemmatizer\n",
        "lemmatizer = WordNetLemmatizer()\n",
        "\n",
        "# Sample tweet to lemmatize\n",
        "new_sentence = ''\n",
        "for i in data.tweet[63].split():\n",
        "    new_sentence = new_sentence + lemmatizer.lemmatize(i.lower()) + ' '\n",
        "\n",
        "print(new_sentence)"
      ]
    },
    {
      "cell_type": "code",
      "execution_count": 23,
      "metadata": {
        "id": "EYIrbnZ-ULnu"
      },
      "outputs": [],
      "source": [
        "contraction_mapping = {\"ain't\": \"is not\", \"aren't\": \"are not\",\"can't\": \"cannot\", \"'cause\": \"because\", \"could've\": \"could have\", \"couldn't\": \"could not\",\n",
        "                           \"didn't\": \"did not\",  \"doesn't\": \"does not\", \"don't\": \"do not\", \"hadn't\": \"had not\", \"hasn't\": \"has not\", \"haven't\": \"have not\",\n",
        "                           \"he'd\": \"he would\",\"he'll\": \"he will\", \"he's\": \"he is\", \"how'd\": \"how did\", \"how'd'y\": \"how do you\", \"how'll\": \"how will\", \"how's\": \"how is\",\n",
        "                           \"I'd\": \"I would\", \"I'd've\": \"I would have\", \"I'll\": \"I will\", \"I'll've\": \"I will have\",\"I'm\": \"I am\", \"I've\": \"I have\", \"i'd\": \"i would\",\n",
        "                           \"i'd've\": \"i would have\", \"i'll\": \"i will\",  \"i'll've\": \"i will have\",\"i'm\": \"i am\", \"i've\": \"i have\", \"isn't\": \"is not\", \"it'd\": \"it would\",\n",
        "                           \"it'd've\": \"it would have\", \"it'll\": \"it will\", \"it'll've\": \"it will have\",\"it's\": \"it is\", \"let's\": \"let us\", \"ma'am\": \"madam\",\n",
        "                           \"mayn't\": \"may not\", \"might've\": \"might have\",\"mightn't\": \"might not\",\"mightn't've\": \"might not have\", \"must've\": \"must have\",\n",
        "                           \"mustn't\": \"must not\", \"mustn't've\": \"must not have\", \"needn't\": \"need not\", \"needn't've\": \"need not have\",\"o'clock\": \"of the clock\",\n",
        "                           \"oughtn't\": \"ought not\", \"oughtn't've\": \"ought not have\", \"shan't\": \"shall not\", \"sha'n't\": \"shall not\", \"shan't've\": \"shall not have\",\n",
        "                           \"she'd\": \"she would\", \"she'd've\": \"she would have\", \"she'll\": \"she will\", \"she'll've\": \"she will have\", \"she's\": \"she is\",\n",
        "                           \"should've\": \"should have\", \"shouldn't\": \"should not\", \"shouldn't've\": \"should not have\", \"so've\": \"so have\",\"so's\": \"so as\",\n",
        "                           \"this's\": \"this is\",\"that'd\": \"that would\", \"that'd've\": \"that would have\", \"that's\": \"that is\", \"there'd\": \"there would\",\n",
        "                           \"there'd've\": \"there would have\", \"there's\": \"there is\", \"here's\": \"here is\",\"they'd\": \"they would\", \"they'd've\": \"they would have\",\n",
        "                           \"they'll\": \"they will\", \"they'll've\": \"they will have\", \"they're\": \"they are\", \"they've\": \"they have\", \"to've\": \"to have\",\n",
        "                           \"wasn't\": \"was not\", \"we'd\": \"we would\", \"we'd've\": \"we would have\", \"we'll\": \"we will\", \"we'll've\": \"we will have\", \"we're\": \"we are\",\n",
        "                           \"we've\": \"we have\", \"weren't\": \"were not\", \"what'll\": \"what will\", \"what'll've\": \"what will have\", \"what're\": \"what are\",\n",
        "                           \"what's\": \"what is\", \"what've\": \"what have\", \"when's\": \"when is\", \"when've\": \"when have\", \"where'd\": \"where did\", \"where's\": \"where is\",\n",
        "                           \"where've\": \"where have\", \"who'll\": \"who will\", \"who'll've\": \"who will have\", \"who's\": \"who is\", \"who've\": \"who have\",\n",
        "                           \"why's\": \"why is\", \"why've\": \"why have\", \"will've\": \"will have\", \"won't\": \"will not\", \"won't've\": \"will not have\",\n",
        "                           \"would've\": \"would have\", \"wouldn't\": \"would not\", \"wouldn't've\": \"would not have\", \"y'all\": \"you all\",\n",
        "                           \"y'all'd\": \"you all would\",\"y'all'd've\": \"you all would have\",\"y'all're\": \"you all are\",\"y'all've\": \"you all have\",\n",
        "                           \"you'd\": \"you would\", \"you'd've\": \"you would have\", \"you'll\": \"you will\", \"you'll've\": \"you will have\",\n",
        "                           \"you're\": \"you are\", \"you've\": \"you have\"}"
      ]
    },
    {
      "cell_type": "code",
      "execution_count": 24,
      "metadata": {
        "id": "crlPh3HfULrn"
      },
      "outputs": [],
      "source": [
        "def tweet_cleaner(text):\n",
        "    newString=re.sub(r'@[A-Za-z0-9]+','',text)                     #removing user mentions\n",
        "    newString=re.sub(\"#\",\"\",newString)                             #removing hashtag symbol\n",
        "    newString= ' '.join([contraction_mapping[t] if t in contraction_mapping else t for t in newString.split(\" \")]) #contraction mapping\n",
        "    newString= re.sub(r'http\\S+', '', newString)                   #removing links\n",
        "    newString= re.sub(r\"'s\\b\",\"\",newString)                        #removing 's\n",
        "    letters_only = re.sub(\"[^a-zA-Z]\", \" \", newString)             #Fetching out only letters\n",
        "    lower_case = letters_only.lower()                              #converting everything to lowercase\n",
        "    tokens = [w for w in lower_case.split() if not w in stop_words]#stopwords removal\n",
        "    newString=''\n",
        "    for i in tokens:\n",
        "        newString=newString+lemmatizer.lemmatize(i)+' '            #converting words to lemma\n",
        "    return newString.strip()"
      ]
    },
    {
      "cell_type": "code",
      "execution_count": 25,
      "metadata": {
        "colab": {
          "base_uri": "https://localhost:8080/"
        },
        "id": "AXAHufh_XZzW",
        "outputId": "5988c234-eb5c-4fa5-ba73-fab66ebcfb42"
      },
      "outputs": [
        {
          "output_type": "stream",
          "name": "stdout",
          "text": [
            "['fingerprint pregnancy test android apps beautiful cute health igers iphoneonly iphonesia iphone', 'finally transparant silicon case thanks uncle yay sony xperia sonyexperias', 'love would go talk makememories unplug relax iphone smartphone wifi connect', 'wired know george made way iphone cute daventry home', 'amazing service apple even talk question unless pay stupid support']\n"
          ]
        }
      ],
      "source": [
        "cleaned_tweets = []\n",
        "for i in data.tweet:\n",
        "  cleaned_tweets.append(tweet_cleaner(i))\n",
        "print(cleaned_tweets[:5])   #print top 5 records"
      ]
    },
    {
      "cell_type": "code",
      "execution_count": 26,
      "metadata": {
        "id": "4wPHs64aXZ2d"
      },
      "outputs": [],
      "source": [
        "data['cleaned_tweets']= cleaned_tweets  #creating new column"
      ]
    },
    {
      "cell_type": "markdown",
      "metadata": {
        "id": "xFqyOyM_Y352"
      },
      "source": [
        "**Data Visualization**\n",
        "\n",
        "Let us understand the most commonly used words in the text before cleaning"
      ]
    },
    {
      "cell_type": "code",
      "execution_count": 27,
      "metadata": {
        "colab": {
          "base_uri": "https://localhost:8080/",
          "height": 587
        },
        "id": "I2oHFERBQ4UJ",
        "outputId": "ab450d5a-1853-456b-e2cf-a541f61ba14d"
      },
      "outputs": [
        {
          "output_type": "display_data",
          "data": {
            "text/plain": [
              "<Figure size 1200x500 with 1 Axes>"
            ],
            "image/png": "[encoded data removed]"
          },
          "metadata": {}
        },
        {
          "output_type": "execute_result",
          "data": {
            "text/plain": [
              "<Axes: title={'center': 'Top 25 most common words'}, xlabel='Samples', ylabel='Counts'>"
            ]
          },
          "metadata": {},
          "execution_count": 27
        }
      ],
      "source": [
        "all_words = []\n",
        "for line in list(data['tweet']):\n",
        "    words = line.split()\n",
        "    for word in words:\n",
        "        all_words.append(word)\n",
        "\n",
        "plt.figure(figsize=(12,5))\n",
        "plt.title('Top 25 most common words')\n",
        "plt.xticks(fontsize=13, rotation=90)\n",
        "fd = nltk.FreqDist(all_words)\n",
        "fd.plot(25,cumulative=False)"
      ]
    },
    {
      "cell_type": "markdown",
      "metadata": {
        "id": "bRZGqvJvZP6X"
      },
      "source": [
        "From above plot, we can infer that most of the tweets are related to iphone, apple, samsung, sony but punctuations are also included in top common words.\n",
        "\n",
        "Let us visualize the same plot after preprocessing"
      ]
    },
    {
      "cell_type": "code",
      "execution_count": 28,
      "metadata": {
        "colab": {
          "base_uri": "https://localhost:8080/",
          "height": 582
        },
        "id": "sz6iAyFnY-8q",
        "outputId": "1774264a-bd54-43da-9c68-8ac1e7758e22"
      },
      "outputs": [
        {
          "output_type": "display_data",
          "data": {
            "text/plain": [
              "<Figure size 1200x500 with 1 Axes>"
            ],
            "image/png": "[encoded data removed]"
          },
          "metadata": {}
        },
        {
          "output_type": "execute_result",
          "data": {
            "text/plain": [
              "<Axes: title={'center': 'Top 25 most common words'}, xlabel='Samples', ylabel='Counts'>"
            ]
          },
          "metadata": {},
          "execution_count": 28
        }
      ],
      "source": [
        "all_words = []\n",
        "for line in list(data['cleaned_tweets']):\n",
        "    words = line.split()\n",
        "    for word in words:\n",
        "        all_words.append(word)\n",
        "\n",
        "plt.figure(figsize=(12,5))\n",
        "plt.title('Top 25 most common words')\n",
        "plt.xticks(fontsize=13, rotation=90)\n",
        "fd = nltk.FreqDist(all_words)\n",
        "fd.plot(25,cumulative=False)"
      ]
    },
    {
      "cell_type": "markdown",
      "metadata": {
        "id": "X_lTI97fbv_P"
      },
      "source": [
        "From the above plot, we can observe a few more common words like instagram, love, cute, twitter, phone, rt (which stands for re-tweeted)"
      ]
    },
    {
      "cell_type": "markdown",
      "source": [
        "##6. Model Building"
      ],
      "metadata": {
        "id": "-g3UXspPgTN9"
      }
    },
    {
      "cell_type": "markdown",
      "metadata": {
        "id": "ayw0358sZj9Q"
      },
      "source": [
        "**Model building**\n",
        "\n",
        "Bag of Words features\n",
        "\n",
        "Here, frequency of every word in vocabulary is used to build the feature space.\n",
        "\n"
      ]
    },
    {
      "cell_type": "code",
      "execution_count": 29,
      "metadata": {
        "colab": {
          "base_uri": "https://localhost:8080/"
        },
        "id": "RF1NWq2eY_AO",
        "outputId": "c2fa519d-ef0f-4b1b-d25e-8c3d4a0d8a45"
      },
      "outputs": [
        {
          "output_type": "execute_result",
          "data": {
            "text/plain": [
              "(7920, 15888)"
            ]
          },
          "metadata": {},
          "execution_count": 29
        }
      ],
      "source": [
        "vectorizer = CountVectorizer()\n",
        "features= vectorizer.fit_transform(data['cleaned_tweets'])\n",
        "features.shape"
      ]
    },
    {
      "cell_type": "markdown",
      "metadata": {
        "id": "J1bmN-3sZqwz"
      },
      "source": [
        "Every word in the vocabulary is a feature"
      ]
    },
    {
      "cell_type": "code",
      "metadata": {
        "id": "bSkTH9oxY-6y",
        "colab": {
          "base_uri": "https://localhost:8080/"
        },
        "outputId": "cca39243-b255-4183-99ff-5fc9eb3c4e34"
      },
      "source": [
        "vectorizer.get_feature_names_out()"
      ],
      "execution_count": 31,
      "outputs": [
        {
          "output_type": "execute_result",
          "data": {
            "text/plain": [
              "array(['aa', 'aaaahhhhhhh', 'aag', ..., 'zzita', 'zzjvgtyaxl', 'zznj'],\n",
              "      dtype=object)"
            ]
          },
          "metadata": {},
          "execution_count": 31
        }
      ]
    },
    {
      "cell_type": "markdown",
      "metadata": {
        "id": "14U4pF1hZx77"
      },
      "source": [
        "Split the dataset into training and validation set"
      ]
    },
    {
      "cell_type": "code",
      "execution_count": 32,
      "metadata": {
        "id": "mMkjrZpDOMn3"
      },
      "outputs": [],
      "source": [
        "xtrain_bow, xvalid_bow, ytrain, yvalid = train_test_split(features,data['label'],test_size=0.3,random_state=42)"
      ]
    },
    {
      "cell_type": "markdown",
      "metadata": {
        "id": "xI_GaiJqZ1tb"
      },
      "source": [
        "Training Logistic Regression"
      ]
    },
    {
      "cell_type": "code",
      "execution_count": 33,
      "metadata": {
        "colab": {
          "base_uri": "https://localhost:8080/"
        },
        "id": "9K6Dy2nSZ05f",
        "outputId": "d5af1758-84a1-48e5-83f7-3005b80c2daf"
      },
      "outputs": [
        {
          "output_type": "execute_result",
          "data": {
            "text/plain": [
              "0.7750809061488672"
            ]
          },
          "metadata": {},
          "execution_count": 33
        }
      ],
      "source": [
        "lr = LogisticRegression()           #instantiate model\n",
        "\n",
        "lr.fit(xtrain_bow, ytrain)          #training model\n",
        "\n",
        "prediction = lr.predict(xvalid_bow) #predicting on validation set\n",
        "\n",
        "f1_score(yvalid, prediction)        #calculating f1 score"
      ]
    },
    {
      "cell_type": "markdown",
      "source": [
        "##In this NLP Project, we have built a Machine Learning Model to analyse sentiments of tweets, implemented techniques such as Lemmatization and Bag-of-Words."
      ],
      "metadata": {
        "id": "0ronT4Oferlr"
      }
    }
  ],
  "metadata": {
    "colab": {
      "provenance": []
    },
    "kernelspec": {
      "display_name": "Python 3",
      "language": "python",
      "name": "python3"
    },
    "language_info": {
      "codemirror_mode": {
        "name": "ipython",
        "version": 3
      },
      "file_extension": ".py",
      "mimetype": "text/x-python",
      "name": "python",
      "nbconvert_exporter": "python",
      "pygments_lexer": "ipython3",
      "version": "3.6.7"
    }
  },
  "nbformat": 4,
  "nbformat_minor": 0
}